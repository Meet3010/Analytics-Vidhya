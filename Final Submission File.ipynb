{
 "cells": [
  {
   "cell_type": "code",
   "execution_count": 51,
   "id": "a5f3bcdc",
   "metadata": {},
   "outputs": [],
   "source": [
    "# importing the libraries\n",
    "import pandas as pd\n",
    "import numpy as np\n",
    "import matplotlib.pyplot as plt\n",
    "import seaborn as sns\n",
    "from sklearn.model_selection import train_test_split\n",
    "from sklearn.ensemble import RandomForestRegressor\n",
    "from sklearn.tree import DecisionTreeRegressor\n",
    "from sklearn.linear_model import LinearRegression\n",
    "from sklearn.metrics import mean_squared_error\n",
    "from sklearn.model_selection import GridSearchCV, RandomizedSearchCV"
   ]
  },
  {
   "cell_type": "code",
   "execution_count": 2,
   "id": "0f67d86e",
   "metadata": {},
   "outputs": [],
   "source": [
    "# importing the training and testing data\n",
    "train_df = pd.read_csv('train.csv')\n",
    "test_df = pd.read_csv('test.csv')"
   ]
  },
  {
   "cell_type": "code",
   "execution_count": 3,
   "id": "c7139bfa",
   "metadata": {},
   "outputs": [
    {
     "data": {
      "text/plain": [
       "((512087, 11), (36000, 9))"
      ]
     },
     "execution_count": 3,
     "metadata": {},
     "output_type": "execute_result"
    }
   ],
   "source": [
    "train_df.shape, test_df.shape"
   ]
  },
  {
   "cell_type": "code",
   "execution_count": 4,
   "id": "62dfab83",
   "metadata": {},
   "outputs": [
    {
     "data": {
      "text/html": [
       "<div>\n",
       "<style scoped>\n",
       "    .dataframe tbody tr th:only-of-type {\n",
       "        vertical-align: middle;\n",
       "    }\n",
       "\n",
       "    .dataframe tbody tr th {\n",
       "        vertical-align: top;\n",
       "    }\n",
       "\n",
       "    .dataframe thead th {\n",
       "        text-align: right;\n",
       "    }\n",
       "</style>\n",
       "<table border=\"1\" class=\"dataframe\">\n",
       "  <thead>\n",
       "    <tr style=\"text-align: right;\">\n",
       "      <th></th>\n",
       "      <th>ID</th>\n",
       "      <th>Day_No</th>\n",
       "      <th>Course_ID</th>\n",
       "      <th>Course_Domain</th>\n",
       "      <th>Course_Type</th>\n",
       "      <th>Short_Promotion</th>\n",
       "      <th>Public_Holiday</th>\n",
       "      <th>Long_Promotion</th>\n",
       "      <th>User_Traffic</th>\n",
       "      <th>Competition_Metric</th>\n",
       "      <th>Sales</th>\n",
       "    </tr>\n",
       "  </thead>\n",
       "  <tbody>\n",
       "    <tr>\n",
       "      <th>0</th>\n",
       "      <td>1</td>\n",
       "      <td>1</td>\n",
       "      <td>1</td>\n",
       "      <td>Development</td>\n",
       "      <td>Course</td>\n",
       "      <td>0</td>\n",
       "      <td>1</td>\n",
       "      <td>1</td>\n",
       "      <td>11004</td>\n",
       "      <td>0.007</td>\n",
       "      <td>81</td>\n",
       "    </tr>\n",
       "    <tr>\n",
       "      <th>1</th>\n",
       "      <td>2</td>\n",
       "      <td>2</td>\n",
       "      <td>1</td>\n",
       "      <td>Development</td>\n",
       "      <td>Course</td>\n",
       "      <td>0</td>\n",
       "      <td>0</td>\n",
       "      <td>1</td>\n",
       "      <td>13650</td>\n",
       "      <td>0.007</td>\n",
       "      <td>79</td>\n",
       "    </tr>\n",
       "    <tr>\n",
       "      <th>2</th>\n",
       "      <td>3</td>\n",
       "      <td>3</td>\n",
       "      <td>1</td>\n",
       "      <td>Development</td>\n",
       "      <td>Course</td>\n",
       "      <td>0</td>\n",
       "      <td>0</td>\n",
       "      <td>1</td>\n",
       "      <td>11655</td>\n",
       "      <td>0.007</td>\n",
       "      <td>75</td>\n",
       "    </tr>\n",
       "    <tr>\n",
       "      <th>3</th>\n",
       "      <td>4</td>\n",
       "      <td>4</td>\n",
       "      <td>1</td>\n",
       "      <td>Development</td>\n",
       "      <td>Course</td>\n",
       "      <td>0</td>\n",
       "      <td>0</td>\n",
       "      <td>1</td>\n",
       "      <td>12054</td>\n",
       "      <td>0.007</td>\n",
       "      <td>80</td>\n",
       "    </tr>\n",
       "    <tr>\n",
       "      <th>4</th>\n",
       "      <td>5</td>\n",
       "      <td>5</td>\n",
       "      <td>1</td>\n",
       "      <td>Development</td>\n",
       "      <td>Course</td>\n",
       "      <td>0</td>\n",
       "      <td>0</td>\n",
       "      <td>1</td>\n",
       "      <td>6804</td>\n",
       "      <td>0.007</td>\n",
       "      <td>41</td>\n",
       "    </tr>\n",
       "    <tr>\n",
       "      <th>...</th>\n",
       "      <td>...</td>\n",
       "      <td>...</td>\n",
       "      <td>...</td>\n",
       "      <td>...</td>\n",
       "      <td>...</td>\n",
       "      <td>...</td>\n",
       "      <td>...</td>\n",
       "      <td>...</td>\n",
       "      <td>...</td>\n",
       "      <td>...</td>\n",
       "      <td>...</td>\n",
       "    </tr>\n",
       "    <tr>\n",
       "      <th>512082</th>\n",
       "      <td>548023</td>\n",
       "      <td>878</td>\n",
       "      <td>600</td>\n",
       "      <td>Software Marketing</td>\n",
       "      <td>Program</td>\n",
       "      <td>0</td>\n",
       "      <td>0</td>\n",
       "      <td>1</td>\n",
       "      <td>8904</td>\n",
       "      <td>0.070</td>\n",
       "      <td>114</td>\n",
       "    </tr>\n",
       "    <tr>\n",
       "      <th>512083</th>\n",
       "      <td>548024</td>\n",
       "      <td>879</td>\n",
       "      <td>600</td>\n",
       "      <td>Software Marketing</td>\n",
       "      <td>Program</td>\n",
       "      <td>0</td>\n",
       "      <td>0</td>\n",
       "      <td>1</td>\n",
       "      <td>10542</td>\n",
       "      <td>0.070</td>\n",
       "      <td>145</td>\n",
       "    </tr>\n",
       "    <tr>\n",
       "      <th>512084</th>\n",
       "      <td>548025</td>\n",
       "      <td>880</td>\n",
       "      <td>600</td>\n",
       "      <td>Software Marketing</td>\n",
       "      <td>Program</td>\n",
       "      <td>0</td>\n",
       "      <td>0</td>\n",
       "      <td>1</td>\n",
       "      <td>13671</td>\n",
       "      <td>0.070</td>\n",
       "      <td>167</td>\n",
       "    </tr>\n",
       "    <tr>\n",
       "      <th>512085</th>\n",
       "      <td>548026</td>\n",
       "      <td>881</td>\n",
       "      <td>600</td>\n",
       "      <td>Software Marketing</td>\n",
       "      <td>Program</td>\n",
       "      <td>0</td>\n",
       "      <td>0</td>\n",
       "      <td>1</td>\n",
       "      <td>8904</td>\n",
       "      <td>0.070</td>\n",
       "      <td>107</td>\n",
       "    </tr>\n",
       "    <tr>\n",
       "      <th>512086</th>\n",
       "      <td>548027</td>\n",
       "      <td>882</td>\n",
       "      <td>600</td>\n",
       "      <td>Software Marketing</td>\n",
       "      <td>Program</td>\n",
       "      <td>1</td>\n",
       "      <td>0</td>\n",
       "      <td>1</td>\n",
       "      <td>11445</td>\n",
       "      <td>0.070</td>\n",
       "      <td>152</td>\n",
       "    </tr>\n",
       "  </tbody>\n",
       "</table>\n",
       "<p>512087 rows × 11 columns</p>\n",
       "</div>"
      ],
      "text/plain": [
       "            ID  Day_No  Course_ID       Course_Domain Course_Type  \\\n",
       "0            1       1          1         Development      Course   \n",
       "1            2       2          1         Development      Course   \n",
       "2            3       3          1         Development      Course   \n",
       "3            4       4          1         Development      Course   \n",
       "4            5       5          1         Development      Course   \n",
       "...        ...     ...        ...                 ...         ...   \n",
       "512082  548023     878        600  Software Marketing     Program   \n",
       "512083  548024     879        600  Software Marketing     Program   \n",
       "512084  548025     880        600  Software Marketing     Program   \n",
       "512085  548026     881        600  Software Marketing     Program   \n",
       "512086  548027     882        600  Software Marketing     Program   \n",
       "\n",
       "        Short_Promotion  Public_Holiday  Long_Promotion  User_Traffic  \\\n",
       "0                     0               1               1         11004   \n",
       "1                     0               0               1         13650   \n",
       "2                     0               0               1         11655   \n",
       "3                     0               0               1         12054   \n",
       "4                     0               0               1          6804   \n",
       "...                 ...             ...             ...           ...   \n",
       "512082                0               0               1          8904   \n",
       "512083                0               0               1         10542   \n",
       "512084                0               0               1         13671   \n",
       "512085                0               0               1          8904   \n",
       "512086                1               0               1         11445   \n",
       "\n",
       "        Competition_Metric  Sales  \n",
       "0                    0.007     81  \n",
       "1                    0.007     79  \n",
       "2                    0.007     75  \n",
       "3                    0.007     80  \n",
       "4                    0.007     41  \n",
       "...                    ...    ...  \n",
       "512082               0.070    114  \n",
       "512083               0.070    145  \n",
       "512084               0.070    167  \n",
       "512085               0.070    107  \n",
       "512086               0.070    152  \n",
       "\n",
       "[512087 rows x 11 columns]"
      ]
     },
     "execution_count": 4,
     "metadata": {},
     "output_type": "execute_result"
    }
   ],
   "source": [
    "train_df"
   ]
  },
  {
   "cell_type": "code",
   "execution_count": 5,
   "id": "59b1e74f",
   "metadata": {},
   "outputs": [
    {
     "data": {
      "text/html": [
       "<div>\n",
       "<style scoped>\n",
       "    .dataframe tbody tr th:only-of-type {\n",
       "        vertical-align: middle;\n",
       "    }\n",
       "\n",
       "    .dataframe tbody tr th {\n",
       "        vertical-align: top;\n",
       "    }\n",
       "\n",
       "    .dataframe thead th {\n",
       "        text-align: right;\n",
       "    }\n",
       "</style>\n",
       "<table border=\"1\" class=\"dataframe\">\n",
       "  <thead>\n",
       "    <tr style=\"text-align: right;\">\n",
       "      <th></th>\n",
       "      <th>ID</th>\n",
       "      <th>Day_No</th>\n",
       "      <th>Course_ID</th>\n",
       "      <th>Course_Domain</th>\n",
       "      <th>Course_Type</th>\n",
       "      <th>Short_Promotion</th>\n",
       "      <th>Public_Holiday</th>\n",
       "      <th>Long_Promotion</th>\n",
       "      <th>Competition_Metric</th>\n",
       "    </tr>\n",
       "  </thead>\n",
       "  <tbody>\n",
       "    <tr>\n",
       "      <th>0</th>\n",
       "      <td>883</td>\n",
       "      <td>883</td>\n",
       "      <td>1</td>\n",
       "      <td>Development</td>\n",
       "      <td>Course</td>\n",
       "      <td>1</td>\n",
       "      <td>0</td>\n",
       "      <td>1</td>\n",
       "      <td>0.007</td>\n",
       "    </tr>\n",
       "    <tr>\n",
       "      <th>1</th>\n",
       "      <td>884</td>\n",
       "      <td>884</td>\n",
       "      <td>1</td>\n",
       "      <td>Development</td>\n",
       "      <td>Course</td>\n",
       "      <td>1</td>\n",
       "      <td>0</td>\n",
       "      <td>1</td>\n",
       "      <td>0.007</td>\n",
       "    </tr>\n",
       "    <tr>\n",
       "      <th>2</th>\n",
       "      <td>885</td>\n",
       "      <td>885</td>\n",
       "      <td>1</td>\n",
       "      <td>Development</td>\n",
       "      <td>Course</td>\n",
       "      <td>1</td>\n",
       "      <td>0</td>\n",
       "      <td>1</td>\n",
       "      <td>0.007</td>\n",
       "    </tr>\n",
       "    <tr>\n",
       "      <th>3</th>\n",
       "      <td>886</td>\n",
       "      <td>886</td>\n",
       "      <td>1</td>\n",
       "      <td>Development</td>\n",
       "      <td>Course</td>\n",
       "      <td>1</td>\n",
       "      <td>0</td>\n",
       "      <td>1</td>\n",
       "      <td>0.007</td>\n",
       "    </tr>\n",
       "    <tr>\n",
       "      <th>4</th>\n",
       "      <td>887</td>\n",
       "      <td>887</td>\n",
       "      <td>1</td>\n",
       "      <td>Development</td>\n",
       "      <td>Course</td>\n",
       "      <td>0</td>\n",
       "      <td>0</td>\n",
       "      <td>1</td>\n",
       "      <td>0.007</td>\n",
       "    </tr>\n",
       "    <tr>\n",
       "      <th>...</th>\n",
       "      <td>...</td>\n",
       "      <td>...</td>\n",
       "      <td>...</td>\n",
       "      <td>...</td>\n",
       "      <td>...</td>\n",
       "      <td>...</td>\n",
       "      <td>...</td>\n",
       "      <td>...</td>\n",
       "      <td>...</td>\n",
       "    </tr>\n",
       "    <tr>\n",
       "      <th>35995</th>\n",
       "      <td>548083</td>\n",
       "      <td>938</td>\n",
       "      <td>600</td>\n",
       "      <td>Software Marketing</td>\n",
       "      <td>Program</td>\n",
       "      <td>1</td>\n",
       "      <td>0</td>\n",
       "      <td>1</td>\n",
       "      <td>0.070</td>\n",
       "    </tr>\n",
       "    <tr>\n",
       "      <th>35996</th>\n",
       "      <td>548084</td>\n",
       "      <td>939</td>\n",
       "      <td>600</td>\n",
       "      <td>Software Marketing</td>\n",
       "      <td>Program</td>\n",
       "      <td>1</td>\n",
       "      <td>0</td>\n",
       "      <td>1</td>\n",
       "      <td>0.070</td>\n",
       "    </tr>\n",
       "    <tr>\n",
       "      <th>35997</th>\n",
       "      <td>548085</td>\n",
       "      <td>940</td>\n",
       "      <td>600</td>\n",
       "      <td>Software Marketing</td>\n",
       "      <td>Program</td>\n",
       "      <td>1</td>\n",
       "      <td>0</td>\n",
       "      <td>1</td>\n",
       "      <td>0.070</td>\n",
       "    </tr>\n",
       "    <tr>\n",
       "      <th>35998</th>\n",
       "      <td>548086</td>\n",
       "      <td>941</td>\n",
       "      <td>600</td>\n",
       "      <td>Software Marketing</td>\n",
       "      <td>Program</td>\n",
       "      <td>1</td>\n",
       "      <td>0</td>\n",
       "      <td>1</td>\n",
       "      <td>0.070</td>\n",
       "    </tr>\n",
       "    <tr>\n",
       "      <th>35999</th>\n",
       "      <td>548087</td>\n",
       "      <td>942</td>\n",
       "      <td>600</td>\n",
       "      <td>Software Marketing</td>\n",
       "      <td>Program</td>\n",
       "      <td>1</td>\n",
       "      <td>0</td>\n",
       "      <td>1</td>\n",
       "      <td>0.070</td>\n",
       "    </tr>\n",
       "  </tbody>\n",
       "</table>\n",
       "<p>36000 rows × 9 columns</p>\n",
       "</div>"
      ],
      "text/plain": [
       "           ID  Day_No  Course_ID       Course_Domain Course_Type  \\\n",
       "0         883     883          1         Development      Course   \n",
       "1         884     884          1         Development      Course   \n",
       "2         885     885          1         Development      Course   \n",
       "3         886     886          1         Development      Course   \n",
       "4         887     887          1         Development      Course   \n",
       "...       ...     ...        ...                 ...         ...   \n",
       "35995  548083     938        600  Software Marketing     Program   \n",
       "35996  548084     939        600  Software Marketing     Program   \n",
       "35997  548085     940        600  Software Marketing     Program   \n",
       "35998  548086     941        600  Software Marketing     Program   \n",
       "35999  548087     942        600  Software Marketing     Program   \n",
       "\n",
       "       Short_Promotion  Public_Holiday  Long_Promotion  Competition_Metric  \n",
       "0                    1               0               1               0.007  \n",
       "1                    1               0               1               0.007  \n",
       "2                    1               0               1               0.007  \n",
       "3                    1               0               1               0.007  \n",
       "4                    0               0               1               0.007  \n",
       "...                ...             ...             ...                 ...  \n",
       "35995                1               0               1               0.070  \n",
       "35996                1               0               1               0.070  \n",
       "35997                1               0               1               0.070  \n",
       "35998                1               0               1               0.070  \n",
       "35999                1               0               1               0.070  \n",
       "\n",
       "[36000 rows x 9 columns]"
      ]
     },
     "execution_count": 5,
     "metadata": {},
     "output_type": "execute_result"
    }
   ],
   "source": [
    "test_df"
   ]
  },
  {
   "cell_type": "markdown",
   "id": "56199a8b",
   "metadata": {},
   "source": [
    "I see here that ID column has a uniquq ID for each entry of the data so first we will drop the ID column from both the dataframes"
   ]
  },
  {
   "cell_type": "code",
   "execution_count": 6,
   "id": "ce1121d0",
   "metadata": {},
   "outputs": [],
   "source": [
    "train_df.drop(['ID'],axis=1, inplace=True)\n",
    "test_df.drop(['ID'],axis=1,inplace=True)"
   ]
  },
  {
   "cell_type": "code",
   "execution_count": 7,
   "id": "77c5b0ad",
   "metadata": {},
   "outputs": [
    {
     "data": {
      "text/plain": [
       "((512087, 10), (36000, 8))"
      ]
     },
     "execution_count": 7,
     "metadata": {},
     "output_type": "execute_result"
    }
   ],
   "source": [
    "train_df.shape, test_df.shape"
   ]
  },
  {
   "cell_type": "code",
   "execution_count": 8,
   "id": "9e3c08d4",
   "metadata": {},
   "outputs": [
    {
     "name": "stdout",
     "output_type": "stream",
     "text": [
      "<class 'pandas.core.frame.DataFrame'>\n",
      "RangeIndex: 512087 entries, 0 to 512086\n",
      "Data columns (total 10 columns):\n",
      " #   Column              Non-Null Count   Dtype  \n",
      "---  ------              --------------   -----  \n",
      " 0   Day_No              512087 non-null  int64  \n",
      " 1   Course_ID           512087 non-null  int64  \n",
      " 2   Course_Domain       512087 non-null  object \n",
      " 3   Course_Type         512087 non-null  object \n",
      " 4   Short_Promotion     512087 non-null  int64  \n",
      " 5   Public_Holiday      512087 non-null  int64  \n",
      " 6   Long_Promotion      512087 non-null  int64  \n",
      " 7   User_Traffic        512087 non-null  int64  \n",
      " 8   Competition_Metric  510323 non-null  float64\n",
      " 9   Sales               512087 non-null  int64  \n",
      "dtypes: float64(1), int64(7), object(2)\n",
      "memory usage: 39.1+ MB\n"
     ]
    }
   ],
   "source": [
    "train_df.info()"
   ]
  },
  {
   "cell_type": "code",
   "execution_count": 9,
   "id": "816f4437",
   "metadata": {},
   "outputs": [
    {
     "name": "stdout",
     "output_type": "stream",
     "text": [
      "<class 'pandas.core.frame.DataFrame'>\n",
      "RangeIndex: 36000 entries, 0 to 35999\n",
      "Data columns (total 8 columns):\n",
      " #   Column              Non-Null Count  Dtype  \n",
      "---  ------              --------------  -----  \n",
      " 0   Day_No              36000 non-null  int64  \n",
      " 1   Course_ID           36000 non-null  int64  \n",
      " 2   Course_Domain       36000 non-null  object \n",
      " 3   Course_Type         36000 non-null  object \n",
      " 4   Short_Promotion     36000 non-null  int64  \n",
      " 5   Public_Holiday      36000 non-null  int64  \n",
      " 6   Long_Promotion      36000 non-null  int64  \n",
      " 7   Competition_Metric  35880 non-null  float64\n",
      "dtypes: float64(1), int64(5), object(2)\n",
      "memory usage: 2.2+ MB\n"
     ]
    }
   ],
   "source": [
    "test_df.info()"
   ]
  },
  {
   "cell_type": "markdown",
   "id": "9bf16a23",
   "metadata": {},
   "source": [
    "I can see that there are missing values in Competition metric and there are two variables extra in the training dataset, one is the target variable and the other is the User Traffic, we will drop the User Traffic from the trainind dataset."
   ]
  },
  {
   "cell_type": "code",
   "execution_count": 11,
   "id": "0461d1b9",
   "metadata": {},
   "outputs": [],
   "source": [
    "train_df.drop(['User_Traffic'], axis=1, inplace=True)"
   ]
  },
  {
   "cell_type": "code",
   "execution_count": 12,
   "id": "416607d5",
   "metadata": {},
   "outputs": [
    {
     "data": {
      "text/plain": [
       "((512087, 9), (36000, 8))"
      ]
     },
     "execution_count": 12,
     "metadata": {},
     "output_type": "execute_result"
    }
   ],
   "source": [
    "train_df.shape, test_df.shape"
   ]
  },
  {
   "cell_type": "code",
   "execution_count": 13,
   "id": "9db1c397",
   "metadata": {},
   "outputs": [
    {
     "data": {
      "text/plain": [
       "(0.07334506577204686,\n",
       " 0.035,\n",
       " 0    0.001\n",
       " dtype: float64)"
      ]
     },
     "execution_count": 13,
     "metadata": {},
     "output_type": "execute_result"
    }
   ],
   "source": [
    "train_df['Competition_Metric'].mean(), train_df['Competition_Metric'].median(), train_df['Competition_Metric'].mode()"
   ]
  },
  {
   "cell_type": "code",
   "execution_count": 14,
   "id": "499c536e",
   "metadata": {},
   "outputs": [
    {
     "data": {
      "text/plain": [
       "count    510323.000000\n",
       "mean          0.073345\n",
       "std           0.100115\n",
       "min           0.000000\n",
       "25%           0.010000\n",
       "50%           0.035000\n",
       "75%           0.094000\n",
       "max           0.768000\n",
       "Name: Competition_Metric, dtype: float64"
      ]
     },
     "execution_count": 14,
     "metadata": {},
     "output_type": "execute_result"
    }
   ],
   "source": [
    "train_df['Competition_Metric'].describe()"
   ]
  },
  {
   "cell_type": "markdown",
   "id": "2687ced9",
   "metadata": {},
   "source": [
    "Here i will impute the missing values with median of the column"
   ]
  },
  {
   "cell_type": "code",
   "execution_count": 16,
   "id": "c4f7928f",
   "metadata": {},
   "outputs": [],
   "source": [
    "train_df['Competition_Metric'].fillna(train_df['Competition_Metric'].median(),inplace=True)\n",
    "test_df['Competition_Metric'].fillna(test_df['Competition_Metric'].median(),inplace=True)"
   ]
  },
  {
   "cell_type": "code",
   "execution_count": 17,
   "id": "3eb5d2b5",
   "metadata": {},
   "outputs": [
    {
     "data": {
      "text/plain": [
       "(Day_No                0\n",
       " Course_ID             0\n",
       " Course_Domain         0\n",
       " Course_Type           0\n",
       " Short_Promotion       0\n",
       " Public_Holiday        0\n",
       " Long_Promotion        0\n",
       " Competition_Metric    0\n",
       " Sales                 0\n",
       " dtype: int64,\n",
       " Day_No                0\n",
       " Course_ID             0\n",
       " Course_Domain         0\n",
       " Course_Type           0\n",
       " Short_Promotion       0\n",
       " Public_Holiday        0\n",
       " Long_Promotion        0\n",
       " Competition_Metric    0\n",
       " dtype: int64)"
      ]
     },
     "execution_count": 17,
     "metadata": {},
     "output_type": "execute_result"
    }
   ],
   "source": [
    "train_df.isnull().sum(), test_df.isnull().sum()"
   ]
  },
  {
   "cell_type": "markdown",
   "id": "85d7b65b",
   "metadata": {},
   "source": [
    "The missing values are cleared now."
   ]
  },
  {
   "cell_type": "code",
   "execution_count": 19,
   "id": "fc5a110b",
   "metadata": {},
   "outputs": [
    {
     "name": "stdout",
     "output_type": "stream",
     "text": [
      "<class 'pandas.core.frame.DataFrame'>\n",
      "RangeIndex: 512087 entries, 0 to 512086\n",
      "Data columns (total 9 columns):\n",
      " #   Column              Non-Null Count   Dtype  \n",
      "---  ------              --------------   -----  \n",
      " 0   Day_No              512087 non-null  int64  \n",
      " 1   Course_ID           512087 non-null  int64  \n",
      " 2   Course_Domain       512087 non-null  object \n",
      " 3   Course_Type         512087 non-null  object \n",
      " 4   Short_Promotion     512087 non-null  int64  \n",
      " 5   Public_Holiday      512087 non-null  int64  \n",
      " 6   Long_Promotion      512087 non-null  int64  \n",
      " 7   Competition_Metric  512087 non-null  float64\n",
      " 8   Sales               512087 non-null  int64  \n",
      "dtypes: float64(1), int64(6), object(2)\n",
      "memory usage: 35.2+ MB\n",
      "<class 'pandas.core.frame.DataFrame'>\n",
      "RangeIndex: 36000 entries, 0 to 35999\n",
      "Data columns (total 8 columns):\n",
      " #   Column              Non-Null Count  Dtype  \n",
      "---  ------              --------------  -----  \n",
      " 0   Day_No              36000 non-null  int64  \n",
      " 1   Course_ID           36000 non-null  int64  \n",
      " 2   Course_Domain       36000 non-null  object \n",
      " 3   Course_Type         36000 non-null  object \n",
      " 4   Short_Promotion     36000 non-null  int64  \n",
      " 5   Public_Holiday      36000 non-null  int64  \n",
      " 6   Long_Promotion      36000 non-null  int64  \n",
      " 7   Competition_Metric  36000 non-null  float64\n",
      "dtypes: float64(1), int64(5), object(2)\n",
      "memory usage: 2.2+ MB\n"
     ]
    },
    {
     "data": {
      "text/plain": [
       "(None, None)"
      ]
     },
     "execution_count": 19,
     "metadata": {},
     "output_type": "execute_result"
    }
   ],
   "source": [
    "train_df.info(), test_df.info()"
   ]
  },
  {
   "cell_type": "markdown",
   "id": "08e33e5c",
   "metadata": {},
   "source": [
    "In both the data sets there are two categorical values Coure Domain and Course Type. We will convert the categorical values into the numerical values."
   ]
  },
  {
   "cell_type": "code",
   "execution_count": 21,
   "id": "34889577",
   "metadata": {},
   "outputs": [
    {
     "name": "stderr",
     "output_type": "stream",
     "text": [
      "C:\\Anaconda\\lib\\site-packages\\seaborn\\_decorators.py:36: FutureWarning: Pass the following variable as a keyword arg: x. From version 0.12, the only valid positional argument will be `data`, and passing other arguments without an explicit keyword will result in an error or misinterpretation.\n",
      "  warnings.warn(\n"
     ]
    },
    {
     "data": {
      "text/plain": [
       "<AxesSubplot:xlabel='Course_Domain', ylabel='count'>"
      ]
     },
     "execution_count": 21,
     "metadata": {},
     "output_type": "execute_result"
    },
    {
     "data": {
      "image/png": "[encoded data removed]",
      "text/plain": [
       "<Figure size 432x288 with 1 Axes>"
      ]
     },
     "metadata": {
      "needs_background": "light"
     },
     "output_type": "display_data"
    }
   ],
   "source": [
    "sns.countplot(train_df['Course_Domain'])"
   ]
  },
  {
   "cell_type": "code",
   "execution_count": 22,
   "id": "b4cb243c",
   "metadata": {},
   "outputs": [
    {
     "name": "stderr",
     "output_type": "stream",
     "text": [
      "C:\\Anaconda\\lib\\site-packages\\seaborn\\_decorators.py:36: FutureWarning: Pass the following variable as a keyword arg: x. From version 0.12, the only valid positional argument will be `data`, and passing other arguments without an explicit keyword will result in an error or misinterpretation.\n",
      "  warnings.warn(\n"
     ]
    },
    {
     "data": {
      "text/plain": [
       "<AxesSubplot:xlabel='Course_Type', ylabel='count'>"
      ]
     },
     "execution_count": 22,
     "metadata": {},
     "output_type": "execute_result"
    },
    {
     "data": {
      "image/png": "[encoded data removed]",
      "text/plain": [
       "<Figure size 432x288 with 1 Axes>"
      ]
     },
     "metadata": {
      "needs_background": "light"
     },
     "output_type": "display_data"
    }
   ],
   "source": [
    "sns.countplot(train_df['Course_Type'])"
   ]
  },
  {
   "cell_type": "code",
   "execution_count": 23,
   "id": "9764cfe1",
   "metadata": {},
   "outputs": [
    {
     "data": {
      "text/plain": [
       "(Development             264295\n",
       " Software Marketing      166172\n",
       " Finance & Accounting     77210\n",
       " Business                  4410\n",
       " Name: Course_Domain, dtype: int64,\n",
       " Course     262747\n",
       " Program    247576\n",
       " Degree       1764\n",
       " Name: Course_Type, dtype: int64)"
      ]
     },
     "execution_count": 23,
     "metadata": {},
     "output_type": "execute_result"
    }
   ],
   "source": [
    "train_df['Course_Domain'].value_counts(), train_df['Course_Type'].value_counts()"
   ]
  },
  {
   "cell_type": "code",
   "execution_count": 24,
   "id": "6f9a606b",
   "metadata": {},
   "outputs": [
    {
     "data": {
      "text/plain": [
       "(512087, 9)"
      ]
     },
     "execution_count": 24,
     "metadata": {},
     "output_type": "execute_result"
    }
   ],
   "source": [
    "train_df.shape"
   ]
  },
  {
   "cell_type": "code",
   "execution_count": 25,
   "id": "2ac2799c",
   "metadata": {},
   "outputs": [],
   "source": [
    "train_df_up = pd.get_dummies(train_df,columns=['Course_Domain','Course_Type'],drop_first=True)\n",
    "test_df_up = pd.get_dummies(test_df,columns=['Course_Domain','Course_Type'], drop_first=True)"
   ]
  },
  {
   "cell_type": "code",
   "execution_count": 26,
   "id": "be4bc2b0",
   "metadata": {},
   "outputs": [
    {
     "data": {
      "text/html": [
       "<div>\n",
       "<style scoped>\n",
       "    .dataframe tbody tr th:only-of-type {\n",
       "        vertical-align: middle;\n",
       "    }\n",
       "\n",
       "    .dataframe tbody tr th {\n",
       "        vertical-align: top;\n",
       "    }\n",
       "\n",
       "    .dataframe thead th {\n",
       "        text-align: right;\n",
       "    }\n",
       "</style>\n",
       "<table border=\"1\" class=\"dataframe\">\n",
       "  <thead>\n",
       "    <tr style=\"text-align: right;\">\n",
       "      <th></th>\n",
       "      <th>Day_No</th>\n",
       "      <th>Course_ID</th>\n",
       "      <th>Short_Promotion</th>\n",
       "      <th>Public_Holiday</th>\n",
       "      <th>Long_Promotion</th>\n",
       "      <th>Competition_Metric</th>\n",
       "      <th>Sales</th>\n",
       "      <th>Course_Domain_Development</th>\n",
       "      <th>Course_Domain_Finance &amp; Accounting</th>\n",
       "      <th>Course_Domain_Software Marketing</th>\n",
       "      <th>Course_Type_Degree</th>\n",
       "      <th>Course_Type_Program</th>\n",
       "    </tr>\n",
       "  </thead>\n",
       "  <tbody>\n",
       "    <tr>\n",
       "      <th>0</th>\n",
       "      <td>1</td>\n",
       "      <td>1</td>\n",
       "      <td>0</td>\n",
       "      <td>1</td>\n",
       "      <td>1</td>\n",
       "      <td>0.007</td>\n",
       "      <td>81</td>\n",
       "      <td>1</td>\n",
       "      <td>0</td>\n",
       "      <td>0</td>\n",
       "      <td>0</td>\n",
       "      <td>0</td>\n",
       "    </tr>\n",
       "    <tr>\n",
       "      <th>1</th>\n",
       "      <td>2</td>\n",
       "      <td>1</td>\n",
       "      <td>0</td>\n",
       "      <td>0</td>\n",
       "      <td>1</td>\n",
       "      <td>0.007</td>\n",
       "      <td>79</td>\n",
       "      <td>1</td>\n",
       "      <td>0</td>\n",
       "      <td>0</td>\n",
       "      <td>0</td>\n",
       "      <td>0</td>\n",
       "    </tr>\n",
       "    <tr>\n",
       "      <th>2</th>\n",
       "      <td>3</td>\n",
       "      <td>1</td>\n",
       "      <td>0</td>\n",
       "      <td>0</td>\n",
       "      <td>1</td>\n",
       "      <td>0.007</td>\n",
       "      <td>75</td>\n",
       "      <td>1</td>\n",
       "      <td>0</td>\n",
       "      <td>0</td>\n",
       "      <td>0</td>\n",
       "      <td>0</td>\n",
       "    </tr>\n",
       "    <tr>\n",
       "      <th>3</th>\n",
       "      <td>4</td>\n",
       "      <td>1</td>\n",
       "      <td>0</td>\n",
       "      <td>0</td>\n",
       "      <td>1</td>\n",
       "      <td>0.007</td>\n",
       "      <td>80</td>\n",
       "      <td>1</td>\n",
       "      <td>0</td>\n",
       "      <td>0</td>\n",
       "      <td>0</td>\n",
       "      <td>0</td>\n",
       "    </tr>\n",
       "    <tr>\n",
       "      <th>4</th>\n",
       "      <td>5</td>\n",
       "      <td>1</td>\n",
       "      <td>0</td>\n",
       "      <td>0</td>\n",
       "      <td>1</td>\n",
       "      <td>0.007</td>\n",
       "      <td>41</td>\n",
       "      <td>1</td>\n",
       "      <td>0</td>\n",
       "      <td>0</td>\n",
       "      <td>0</td>\n",
       "      <td>0</td>\n",
       "    </tr>\n",
       "    <tr>\n",
       "      <th>...</th>\n",
       "      <td>...</td>\n",
       "      <td>...</td>\n",
       "      <td>...</td>\n",
       "      <td>...</td>\n",
       "      <td>...</td>\n",
       "      <td>...</td>\n",
       "      <td>...</td>\n",
       "      <td>...</td>\n",
       "      <td>...</td>\n",
       "      <td>...</td>\n",
       "      <td>...</td>\n",
       "      <td>...</td>\n",
       "    </tr>\n",
       "    <tr>\n",
       "      <th>512082</th>\n",
       "      <td>878</td>\n",
       "      <td>600</td>\n",
       "      <td>0</td>\n",
       "      <td>0</td>\n",
       "      <td>1</td>\n",
       "      <td>0.070</td>\n",
       "      <td>114</td>\n",
       "      <td>0</td>\n",
       "      <td>0</td>\n",
       "      <td>1</td>\n",
       "      <td>0</td>\n",
       "      <td>1</td>\n",
       "    </tr>\n",
       "    <tr>\n",
       "      <th>512083</th>\n",
       "      <td>879</td>\n",
       "      <td>600</td>\n",
       "      <td>0</td>\n",
       "      <td>0</td>\n",
       "      <td>1</td>\n",
       "      <td>0.070</td>\n",
       "      <td>145</td>\n",
       "      <td>0</td>\n",
       "      <td>0</td>\n",
       "      <td>1</td>\n",
       "      <td>0</td>\n",
       "      <td>1</td>\n",
       "    </tr>\n",
       "    <tr>\n",
       "      <th>512084</th>\n",
       "      <td>880</td>\n",
       "      <td>600</td>\n",
       "      <td>0</td>\n",
       "      <td>0</td>\n",
       "      <td>1</td>\n",
       "      <td>0.070</td>\n",
       "      <td>167</td>\n",
       "      <td>0</td>\n",
       "      <td>0</td>\n",
       "      <td>1</td>\n",
       "      <td>0</td>\n",
       "      <td>1</td>\n",
       "    </tr>\n",
       "    <tr>\n",
       "      <th>512085</th>\n",
       "      <td>881</td>\n",
       "      <td>600</td>\n",
       "      <td>0</td>\n",
       "      <td>0</td>\n",
       "      <td>1</td>\n",
       "      <td>0.070</td>\n",
       "      <td>107</td>\n",
       "      <td>0</td>\n",
       "      <td>0</td>\n",
       "      <td>1</td>\n",
       "      <td>0</td>\n",
       "      <td>1</td>\n",
       "    </tr>\n",
       "    <tr>\n",
       "      <th>512086</th>\n",
       "      <td>882</td>\n",
       "      <td>600</td>\n",
       "      <td>1</td>\n",
       "      <td>0</td>\n",
       "      <td>1</td>\n",
       "      <td>0.070</td>\n",
       "      <td>152</td>\n",
       "      <td>0</td>\n",
       "      <td>0</td>\n",
       "      <td>1</td>\n",
       "      <td>0</td>\n",
       "      <td>1</td>\n",
       "    </tr>\n",
       "  </tbody>\n",
       "</table>\n",
       "<p>512087 rows × 12 columns</p>\n",
       "</div>"
      ],
      "text/plain": [
       "        Day_No  Course_ID  Short_Promotion  Public_Holiday  Long_Promotion  \\\n",
       "0            1          1                0               1               1   \n",
       "1            2          1                0               0               1   \n",
       "2            3          1                0               0               1   \n",
       "3            4          1                0               0               1   \n",
       "4            5          1                0               0               1   \n",
       "...        ...        ...              ...             ...             ...   \n",
       "512082     878        600                0               0               1   \n",
       "512083     879        600                0               0               1   \n",
       "512084     880        600                0               0               1   \n",
       "512085     881        600                0               0               1   \n",
       "512086     882        600                1               0               1   \n",
       "\n",
       "        Competition_Metric  Sales  Course_Domain_Development  \\\n",
       "0                    0.007     81                          1   \n",
       "1                    0.007     79                          1   \n",
       "2                    0.007     75                          1   \n",
       "3                    0.007     80                          1   \n",
       "4                    0.007     41                          1   \n",
       "...                    ...    ...                        ...   \n",
       "512082               0.070    114                          0   \n",
       "512083               0.070    145                          0   \n",
       "512084               0.070    167                          0   \n",
       "512085               0.070    107                          0   \n",
       "512086               0.070    152                          0   \n",
       "\n",
       "        Course_Domain_Finance & Accounting  Course_Domain_Software Marketing  \\\n",
       "0                                        0                                 0   \n",
       "1                                        0                                 0   \n",
       "2                                        0                                 0   \n",
       "3                                        0                                 0   \n",
       "4                                        0                                 0   \n",
       "...                                    ...                               ...   \n",
       "512082                                   0                                 1   \n",
       "512083                                   0                                 1   \n",
       "512084                                   0                                 1   \n",
       "512085                                   0                                 1   \n",
       "512086                                   0                                 1   \n",
       "\n",
       "        Course_Type_Degree  Course_Type_Program  \n",
       "0                        0                    0  \n",
       "1                        0                    0  \n",
       "2                        0                    0  \n",
       "3                        0                    0  \n",
       "4                        0                    0  \n",
       "...                    ...                  ...  \n",
       "512082                   0                    1  \n",
       "512083                   0                    1  \n",
       "512084                   0                    1  \n",
       "512085                   0                    1  \n",
       "512086                   0                    1  \n",
       "\n",
       "[512087 rows x 12 columns]"
      ]
     },
     "execution_count": 26,
     "metadata": {},
     "output_type": "execute_result"
    }
   ],
   "source": [
    "train_df_up"
   ]
  },
  {
   "cell_type": "code",
   "execution_count": 27,
   "id": "63a0d576",
   "metadata": {},
   "outputs": [
    {
     "data": {
      "text/html": [
       "<div>\n",
       "<style scoped>\n",
       "    .dataframe tbody tr th:only-of-type {\n",
       "        vertical-align: middle;\n",
       "    }\n",
       "\n",
       "    .dataframe tbody tr th {\n",
       "        vertical-align: top;\n",
       "    }\n",
       "\n",
       "    .dataframe thead th {\n",
       "        text-align: right;\n",
       "    }\n",
       "</style>\n",
       "<table border=\"1\" class=\"dataframe\">\n",
       "  <thead>\n",
       "    <tr style=\"text-align: right;\">\n",
       "      <th></th>\n",
       "      <th>Day_No</th>\n",
       "      <th>Course_ID</th>\n",
       "      <th>Short_Promotion</th>\n",
       "      <th>Public_Holiday</th>\n",
       "      <th>Long_Promotion</th>\n",
       "      <th>Competition_Metric</th>\n",
       "      <th>Sales</th>\n",
       "    </tr>\n",
       "  </thead>\n",
       "  <tbody>\n",
       "    <tr>\n",
       "      <th>Day_No</th>\n",
       "      <td>1.000000</td>\n",
       "      <td>-0.000506</td>\n",
       "      <td>0.014645</td>\n",
       "      <td>0.019112</td>\n",
       "      <td>-0.020204</td>\n",
       "      <td>0.003188</td>\n",
       "      <td>0.060012</td>\n",
       "    </tr>\n",
       "    <tr>\n",
       "      <th>Course_ID</th>\n",
       "      <td>-0.000506</td>\n",
       "      <td>1.000000</td>\n",
       "      <td>-0.000027</td>\n",
       "      <td>0.001242</td>\n",
       "      <td>-0.039605</td>\n",
       "      <td>-0.007110</td>\n",
       "      <td>0.016894</td>\n",
       "    </tr>\n",
       "    <tr>\n",
       "      <th>Short_Promotion</th>\n",
       "      <td>0.014645</td>\n",
       "      <td>-0.000027</td>\n",
       "      <td>1.000000</td>\n",
       "      <td>-0.018770</td>\n",
       "      <td>-0.001149</td>\n",
       "      <td>0.000180</td>\n",
       "      <td>0.367762</td>\n",
       "    </tr>\n",
       "    <tr>\n",
       "      <th>Public_Holiday</th>\n",
       "      <td>0.019112</td>\n",
       "      <td>0.001242</td>\n",
       "      <td>-0.018770</td>\n",
       "      <td>1.000000</td>\n",
       "      <td>0.008319</td>\n",
       "      <td>-0.000483</td>\n",
       "      <td>-0.135052</td>\n",
       "    </tr>\n",
       "    <tr>\n",
       "      <th>Long_Promotion</th>\n",
       "      <td>-0.020204</td>\n",
       "      <td>-0.039605</td>\n",
       "      <td>-0.001149</td>\n",
       "      <td>0.008319</td>\n",
       "      <td>1.000000</td>\n",
       "      <td>-0.117862</td>\n",
       "      <td>-0.109455</td>\n",
       "    </tr>\n",
       "    <tr>\n",
       "      <th>Competition_Metric</th>\n",
       "      <td>0.003188</td>\n",
       "      <td>-0.007110</td>\n",
       "      <td>0.000180</td>\n",
       "      <td>-0.000483</td>\n",
       "      <td>-0.117862</td>\n",
       "      <td>1.000000</td>\n",
       "      <td>-0.021716</td>\n",
       "    </tr>\n",
       "    <tr>\n",
       "      <th>Sales</th>\n",
       "      <td>0.060012</td>\n",
       "      <td>0.016894</td>\n",
       "      <td>0.367762</td>\n",
       "      <td>-0.135052</td>\n",
       "      <td>-0.109455</td>\n",
       "      <td>-0.021716</td>\n",
       "      <td>1.000000</td>\n",
       "    </tr>\n",
       "  </tbody>\n",
       "</table>\n",
       "</div>"
      ],
      "text/plain": [
       "                      Day_No  Course_ID  Short_Promotion  Public_Holiday  \\\n",
       "Day_No              1.000000  -0.000506         0.014645        0.019112   \n",
       "Course_ID          -0.000506   1.000000        -0.000027        0.001242   \n",
       "Short_Promotion     0.014645  -0.000027         1.000000       -0.018770   \n",
       "Public_Holiday      0.019112   0.001242        -0.018770        1.000000   \n",
       "Long_Promotion     -0.020204  -0.039605        -0.001149        0.008319   \n",
       "Competition_Metric  0.003188  -0.007110         0.000180       -0.000483   \n",
       "Sales               0.060012   0.016894         0.367762       -0.135052   \n",
       "\n",
       "                    Long_Promotion  Competition_Metric     Sales  \n",
       "Day_No                   -0.020204            0.003188  0.060012  \n",
       "Course_ID                -0.039605           -0.007110  0.016894  \n",
       "Short_Promotion          -0.001149            0.000180  0.367762  \n",
       "Public_Holiday            0.008319           -0.000483 -0.135052  \n",
       "Long_Promotion            1.000000           -0.117862 -0.109455  \n",
       "Competition_Metric       -0.117862            1.000000 -0.021716  \n",
       "Sales                    -0.109455           -0.021716  1.000000  "
      ]
     },
     "execution_count": 27,
     "metadata": {},
     "output_type": "execute_result"
    }
   ],
   "source": [
    "train_df.corr()"
   ]
  },
  {
   "cell_type": "code",
   "execution_count": 28,
   "id": "91124cb5",
   "metadata": {},
   "outputs": [
    {
     "data": {
      "text/plain": [
       "<AxesSubplot:>"
      ]
     },
     "execution_count": 28,
     "metadata": {},
     "output_type": "execute_result"
    },
    {
     "data": {
      "image/png": "[encoded data removed]",
      "text/plain": [
       "<Figure size 432x288 with 2 Axes>"
      ]
     },
     "metadata": {
      "needs_background": "light"
     },
     "output_type": "display_data"
    }
   ],
   "source": [
    "sns.heatmap(train_df.corr(),annot=True)"
   ]
  },
  {
   "cell_type": "markdown",
   "id": "c95984aa",
   "metadata": {},
   "source": [
    "Day no makes no sense, but if we look the data description closely its the starting of days from first, so we can divide the day data into weekly manner."
   ]
  },
  {
   "cell_type": "code",
   "execution_count": 29,
   "id": "b67fb626",
   "metadata": {},
   "outputs": [],
   "source": [
    "train_df_up['Day_No'] = train_df_up['Day_No']%7\n",
    "# train_df_up\n",
    "\n",
    "test_df_up['Day_No'] = test_df_up['Day_No']%7\n",
    "# test_df_up\n",
    "# test_df_up['Day_No'].value_counts()\n"
   ]
  },
  {
   "cell_type": "markdown",
   "id": "4533a5a3",
   "metadata": {},
   "source": [
    "Now that we have our dataset ready we will divide the test data into dependent and independent variable"
   ]
  },
  {
   "cell_type": "code",
   "execution_count": 30,
   "id": "94135aba",
   "metadata": {},
   "outputs": [],
   "source": [
    "X = train_df_up.drop(['Sales'],axis=1)\n",
    "Y = train_df_up['Sales']"
   ]
  },
  {
   "cell_type": "code",
   "execution_count": 31,
   "id": "094a9668",
   "metadata": {},
   "outputs": [
    {
     "data": {
      "text/plain": [
       "((512087, 11), (36000, 11), (512087,))"
      ]
     },
     "execution_count": 31,
     "metadata": {},
     "output_type": "execute_result"
    }
   ],
   "source": [
    "X.shape, test_df_up.shape, Y.shape"
   ]
  },
  {
   "cell_type": "markdown",
   "id": "af10e949",
   "metadata": {},
   "source": [
    "Now we will divide our data into training and testing data"
   ]
  },
  {
   "cell_type": "code",
   "execution_count": 33,
   "id": "e7334635",
   "metadata": {},
   "outputs": [
    {
     "data": {
      "text/plain": [
       "((409669, 11), (102418, 11), (409669,), (102418,))"
      ]
     },
     "execution_count": 33,
     "metadata": {},
     "output_type": "execute_result"
    }
   ],
   "source": [
    "x_train, x_test, y_train, y_test = train_test_split(X, Y, test_size=0.20, random_state=99)\n",
    "x_train.shape, x_test.shape, y_train.shape, y_test.shape"
   ]
  },
  {
   "cell_type": "markdown",
   "id": "2343db7b",
   "metadata": {},
   "source": [
    "#### Models\n",
    "\n",
    "### Linear Regression"
   ]
  },
  {
   "cell_type": "code",
   "execution_count": 34,
   "id": "cd603719",
   "metadata": {},
   "outputs": [],
   "source": [
    "lr = LinearRegression()"
   ]
  },
  {
   "cell_type": "code",
   "execution_count": 35,
   "id": "fd44a6ee",
   "metadata": {},
   "outputs": [
    {
     "data": {
      "text/plain": [
       "LinearRegression()"
      ]
     },
     "execution_count": 35,
     "metadata": {},
     "output_type": "execute_result"
    }
   ],
   "source": [
    "lr.fit(x_train,y_train)"
   ]
  },
  {
   "cell_type": "code",
   "execution_count": 36,
   "id": "f1d80b9d",
   "metadata": {},
   "outputs": [],
   "source": [
    "y_pred = lr.predict(x_test)"
   ]
  },
  {
   "cell_type": "code",
   "execution_count": 37,
   "id": "e85344d4",
   "metadata": {},
   "outputs": [
    {
     "data": {
      "text/plain": [
       "array([148.7958144 , 153.8879887 , 101.48545205, ...,  85.93759145,\n",
       "       122.02977606,  88.74509323])"
      ]
     },
     "execution_count": 37,
     "metadata": {},
     "output_type": "execute_result"
    }
   ],
   "source": [
    "y_pred"
   ]
  },
  {
   "cell_type": "code",
   "execution_count": 38,
   "id": "c7a1af0c",
   "metadata": {},
   "outputs": [
    {
     "data": {
      "text/html": [
       "<div>\n",
       "<style scoped>\n",
       "    .dataframe tbody tr th:only-of-type {\n",
       "        vertical-align: middle;\n",
       "    }\n",
       "\n",
       "    .dataframe tbody tr th {\n",
       "        vertical-align: top;\n",
       "    }\n",
       "\n",
       "    .dataframe thead th {\n",
       "        text-align: right;\n",
       "    }\n",
       "</style>\n",
       "<table border=\"1\" class=\"dataframe\">\n",
       "  <thead>\n",
       "    <tr style=\"text-align: right;\">\n",
       "      <th></th>\n",
       "      <th>Actual</th>\n",
       "      <th>Predicted</th>\n",
       "    </tr>\n",
       "  </thead>\n",
       "  <tbody>\n",
       "    <tr>\n",
       "      <th>197841</th>\n",
       "      <td>106</td>\n",
       "      <td>148.795814</td>\n",
       "    </tr>\n",
       "    <tr>\n",
       "      <th>473109</th>\n",
       "      <td>307</td>\n",
       "      <td>153.887989</td>\n",
       "    </tr>\n",
       "    <tr>\n",
       "      <th>363458</th>\n",
       "      <td>159</td>\n",
       "      <td>101.485452</td>\n",
       "    </tr>\n",
       "    <tr>\n",
       "      <th>142211</th>\n",
       "      <td>100</td>\n",
       "      <td>135.312402</td>\n",
       "    </tr>\n",
       "    <tr>\n",
       "      <th>487286</th>\n",
       "      <td>168</td>\n",
       "      <td>148.726554</td>\n",
       "    </tr>\n",
       "    <tr>\n",
       "      <th>...</th>\n",
       "      <td>...</td>\n",
       "      <td>...</td>\n",
       "    </tr>\n",
       "    <tr>\n",
       "      <th>293705</th>\n",
       "      <td>180</td>\n",
       "      <td>132.463994</td>\n",
       "    </tr>\n",
       "    <tr>\n",
       "      <th>468214</th>\n",
       "      <td>158</td>\n",
       "      <td>151.185263</td>\n",
       "    </tr>\n",
       "    <tr>\n",
       "      <th>294123</th>\n",
       "      <td>101</td>\n",
       "      <td>85.937591</td>\n",
       "    </tr>\n",
       "    <tr>\n",
       "      <th>91532</th>\n",
       "      <td>99</td>\n",
       "      <td>122.029776</td>\n",
       "    </tr>\n",
       "    <tr>\n",
       "      <th>34976</th>\n",
       "      <td>84</td>\n",
       "      <td>88.745093</td>\n",
       "    </tr>\n",
       "  </tbody>\n",
       "</table>\n",
       "<p>102418 rows × 2 columns</p>\n",
       "</div>"
      ],
      "text/plain": [
       "        Actual   Predicted\n",
       "197841     106  148.795814\n",
       "473109     307  153.887989\n",
       "363458     159  101.485452\n",
       "142211     100  135.312402\n",
       "487286     168  148.726554\n",
       "...        ...         ...\n",
       "293705     180  132.463994\n",
       "468214     158  151.185263\n",
       "294123     101   85.937591\n",
       "91532       99  122.029776\n",
       "34976       84   88.745093\n",
       "\n",
       "[102418 rows x 2 columns]"
      ]
     },
     "execution_count": 38,
     "metadata": {},
     "output_type": "execute_result"
    }
   ],
   "source": [
    "result = pd.DataFrame({'Actual' : y_test, 'Predicted' : y_pred})\n",
    "result"
   ]
  },
  {
   "cell_type": "code",
   "execution_count": 39,
   "id": "b8dccdeb",
   "metadata": {},
   "outputs": [
    {
     "data": {
      "text/plain": [
       "2362.7314953963155"
      ]
     },
     "execution_count": 39,
     "metadata": {},
     "output_type": "execute_result"
    }
   ],
   "source": [
    "mean_squared_error(y_test,y_pred)"
   ]
  },
  {
   "cell_type": "markdown",
   "id": "3f19a7fa",
   "metadata": {},
   "source": [
    "### Random Forest Regressor"
   ]
  },
  {
   "cell_type": "code",
   "execution_count": 40,
   "id": "0ee3758c",
   "metadata": {},
   "outputs": [],
   "source": [
    "rf = RandomForestRegressor()"
   ]
  },
  {
   "cell_type": "code",
   "execution_count": 41,
   "id": "28e4c18b",
   "metadata": {},
   "outputs": [
    {
     "name": "stdout",
     "output_type": "stream",
     "text": [
      "Wall time: 1min 32s\n"
     ]
    },
    {
     "data": {
      "text/plain": [
       "RandomForestRegressor()"
      ]
     },
     "execution_count": 41,
     "metadata": {},
     "output_type": "execute_result"
    }
   ],
   "source": [
    "%%time\n",
    "rf.fit(x_train,y_train)"
   ]
  },
  {
   "cell_type": "code",
   "execution_count": 42,
   "id": "7b55db92",
   "metadata": {},
   "outputs": [
    {
     "name": "stdout",
     "output_type": "stream",
     "text": [
      "Wall time: 2.2 s\n"
     ]
    }
   ],
   "source": [
    "%%time\n",
    "y_pred = rf.predict(x_test)"
   ]
  },
  {
   "cell_type": "code",
   "execution_count": 43,
   "id": "e7d2a3c2",
   "metadata": {},
   "outputs": [
    {
     "data": {
      "text/plain": [
       "array([114.78206898, 293.86111132, 136.64510298, ..., 121.96657349,\n",
       "       105.39093543,  61.4116994 ])"
      ]
     },
     "execution_count": 43,
     "metadata": {},
     "output_type": "execute_result"
    }
   ],
   "source": [
    "y_pred"
   ]
  },
  {
   "cell_type": "code",
   "execution_count": 44,
   "id": "a3704086",
   "metadata": {},
   "outputs": [
    {
     "data": {
      "text/html": [
       "<div>\n",
       "<style scoped>\n",
       "    .dataframe tbody tr th:only-of-type {\n",
       "        vertical-align: middle;\n",
       "    }\n",
       "\n",
       "    .dataframe tbody tr th {\n",
       "        vertical-align: top;\n",
       "    }\n",
       "\n",
       "    .dataframe thead th {\n",
       "        text-align: right;\n",
       "    }\n",
       "</style>\n",
       "<table border=\"1\" class=\"dataframe\">\n",
       "  <thead>\n",
       "    <tr style=\"text-align: right;\">\n",
       "      <th></th>\n",
       "      <th>Actual</th>\n",
       "      <th>Predicted</th>\n",
       "    </tr>\n",
       "  </thead>\n",
       "  <tbody>\n",
       "    <tr>\n",
       "      <th>197841</th>\n",
       "      <td>106</td>\n",
       "      <td>114.782069</td>\n",
       "    </tr>\n",
       "    <tr>\n",
       "      <th>473109</th>\n",
       "      <td>307</td>\n",
       "      <td>293.861111</td>\n",
       "    </tr>\n",
       "    <tr>\n",
       "      <th>363458</th>\n",
       "      <td>159</td>\n",
       "      <td>136.645103</td>\n",
       "    </tr>\n",
       "    <tr>\n",
       "      <th>142211</th>\n",
       "      <td>100</td>\n",
       "      <td>95.337625</td>\n",
       "    </tr>\n",
       "    <tr>\n",
       "      <th>487286</th>\n",
       "      <td>168</td>\n",
       "      <td>165.365533</td>\n",
       "    </tr>\n",
       "    <tr>\n",
       "      <th>...</th>\n",
       "      <td>...</td>\n",
       "      <td>...</td>\n",
       "    </tr>\n",
       "    <tr>\n",
       "      <th>293705</th>\n",
       "      <td>180</td>\n",
       "      <td>172.451283</td>\n",
       "    </tr>\n",
       "    <tr>\n",
       "      <th>468214</th>\n",
       "      <td>158</td>\n",
       "      <td>111.359360</td>\n",
       "    </tr>\n",
       "    <tr>\n",
       "      <th>294123</th>\n",
       "      <td>101</td>\n",
       "      <td>121.966573</td>\n",
       "    </tr>\n",
       "    <tr>\n",
       "      <th>91532</th>\n",
       "      <td>99</td>\n",
       "      <td>105.390935</td>\n",
       "    </tr>\n",
       "    <tr>\n",
       "      <th>34976</th>\n",
       "      <td>84</td>\n",
       "      <td>61.411699</td>\n",
       "    </tr>\n",
       "  </tbody>\n",
       "</table>\n",
       "<p>102418 rows × 2 columns</p>\n",
       "</div>"
      ],
      "text/plain": [
       "        Actual   Predicted\n",
       "197841     106  114.782069\n",
       "473109     307  293.861111\n",
       "363458     159  136.645103\n",
       "142211     100   95.337625\n",
       "487286     168  165.365533\n",
       "...        ...         ...\n",
       "293705     180  172.451283\n",
       "468214     158  111.359360\n",
       "294123     101  121.966573\n",
       "91532       99  105.390935\n",
       "34976       84   61.411699\n",
       "\n",
       "[102418 rows x 2 columns]"
      ]
     },
     "execution_count": 44,
     "metadata": {},
     "output_type": "execute_result"
    }
   ],
   "source": [
    "result = pd.DataFrame({'Actual' : y_test, 'Predicted' : y_pred})\n",
    "result"
   ]
  },
  {
   "cell_type": "code",
   "execution_count": 45,
   "id": "4227ea2e",
   "metadata": {},
   "outputs": [],
   "source": [
    "y_pred_test = rf.predict(test_df_up)"
   ]
  },
  {
   "cell_type": "code",
   "execution_count": 46,
   "id": "40262e59",
   "metadata": {},
   "outputs": [
    {
     "data": {
      "text/plain": [
       "array([114.71210646, 120.52730113, 100.84988574, ..., 121.66908031,\n",
       "       121.09370817, 131.24291469])"
      ]
     },
     "execution_count": 46,
     "metadata": {},
     "output_type": "execute_result"
    }
   ],
   "source": [
    "y_pred_test"
   ]
  },
  {
   "cell_type": "code",
   "execution_count": 47,
   "id": "1fc3b5d9",
   "metadata": {},
   "outputs": [
    {
     "data": {
      "text/html": [
       "<div>\n",
       "<style scoped>\n",
       "    .dataframe tbody tr th:only-of-type {\n",
       "        vertical-align: middle;\n",
       "    }\n",
       "\n",
       "    .dataframe tbody tr th {\n",
       "        vertical-align: top;\n",
       "    }\n",
       "\n",
       "    .dataframe thead th {\n",
       "        text-align: right;\n",
       "    }\n",
       "</style>\n",
       "<table border=\"1\" class=\"dataframe\">\n",
       "  <thead>\n",
       "    <tr style=\"text-align: right;\">\n",
       "      <th></th>\n",
       "      <th>ID</th>\n",
       "      <th>Day_No</th>\n",
       "      <th>Course_ID</th>\n",
       "      <th>Course_Domain</th>\n",
       "      <th>Course_Type</th>\n",
       "      <th>Short_Promotion</th>\n",
       "      <th>Public_Holiday</th>\n",
       "      <th>Long_Promotion</th>\n",
       "      <th>Competition_Metric</th>\n",
       "    </tr>\n",
       "  </thead>\n",
       "  <tbody>\n",
       "    <tr>\n",
       "      <th>0</th>\n",
       "      <td>883</td>\n",
       "      <td>883</td>\n",
       "      <td>1</td>\n",
       "      <td>Development</td>\n",
       "      <td>Course</td>\n",
       "      <td>1</td>\n",
       "      <td>0</td>\n",
       "      <td>1</td>\n",
       "      <td>0.007</td>\n",
       "    </tr>\n",
       "    <tr>\n",
       "      <th>1</th>\n",
       "      <td>884</td>\n",
       "      <td>884</td>\n",
       "      <td>1</td>\n",
       "      <td>Development</td>\n",
       "      <td>Course</td>\n",
       "      <td>1</td>\n",
       "      <td>0</td>\n",
       "      <td>1</td>\n",
       "      <td>0.007</td>\n",
       "    </tr>\n",
       "    <tr>\n",
       "      <th>2</th>\n",
       "      <td>885</td>\n",
       "      <td>885</td>\n",
       "      <td>1</td>\n",
       "      <td>Development</td>\n",
       "      <td>Course</td>\n",
       "      <td>1</td>\n",
       "      <td>0</td>\n",
       "      <td>1</td>\n",
       "      <td>0.007</td>\n",
       "    </tr>\n",
       "    <tr>\n",
       "      <th>3</th>\n",
       "      <td>886</td>\n",
       "      <td>886</td>\n",
       "      <td>1</td>\n",
       "      <td>Development</td>\n",
       "      <td>Course</td>\n",
       "      <td>1</td>\n",
       "      <td>0</td>\n",
       "      <td>1</td>\n",
       "      <td>0.007</td>\n",
       "    </tr>\n",
       "    <tr>\n",
       "      <th>4</th>\n",
       "      <td>887</td>\n",
       "      <td>887</td>\n",
       "      <td>1</td>\n",
       "      <td>Development</td>\n",
       "      <td>Course</td>\n",
       "      <td>0</td>\n",
       "      <td>0</td>\n",
       "      <td>1</td>\n",
       "      <td>0.007</td>\n",
       "    </tr>\n",
       "    <tr>\n",
       "      <th>...</th>\n",
       "      <td>...</td>\n",
       "      <td>...</td>\n",
       "      <td>...</td>\n",
       "      <td>...</td>\n",
       "      <td>...</td>\n",
       "      <td>...</td>\n",
       "      <td>...</td>\n",
       "      <td>...</td>\n",
       "      <td>...</td>\n",
       "    </tr>\n",
       "    <tr>\n",
       "      <th>35995</th>\n",
       "      <td>548083</td>\n",
       "      <td>938</td>\n",
       "      <td>600</td>\n",
       "      <td>Software Marketing</td>\n",
       "      <td>Program</td>\n",
       "      <td>1</td>\n",
       "      <td>0</td>\n",
       "      <td>1</td>\n",
       "      <td>0.070</td>\n",
       "    </tr>\n",
       "    <tr>\n",
       "      <th>35996</th>\n",
       "      <td>548084</td>\n",
       "      <td>939</td>\n",
       "      <td>600</td>\n",
       "      <td>Software Marketing</td>\n",
       "      <td>Program</td>\n",
       "      <td>1</td>\n",
       "      <td>0</td>\n",
       "      <td>1</td>\n",
       "      <td>0.070</td>\n",
       "    </tr>\n",
       "    <tr>\n",
       "      <th>35997</th>\n",
       "      <td>548085</td>\n",
       "      <td>940</td>\n",
       "      <td>600</td>\n",
       "      <td>Software Marketing</td>\n",
       "      <td>Program</td>\n",
       "      <td>1</td>\n",
       "      <td>0</td>\n",
       "      <td>1</td>\n",
       "      <td>0.070</td>\n",
       "    </tr>\n",
       "    <tr>\n",
       "      <th>35998</th>\n",
       "      <td>548086</td>\n",
       "      <td>941</td>\n",
       "      <td>600</td>\n",
       "      <td>Software Marketing</td>\n",
       "      <td>Program</td>\n",
       "      <td>1</td>\n",
       "      <td>0</td>\n",
       "      <td>1</td>\n",
       "      <td>0.070</td>\n",
       "    </tr>\n",
       "    <tr>\n",
       "      <th>35999</th>\n",
       "      <td>548087</td>\n",
       "      <td>942</td>\n",
       "      <td>600</td>\n",
       "      <td>Software Marketing</td>\n",
       "      <td>Program</td>\n",
       "      <td>1</td>\n",
       "      <td>0</td>\n",
       "      <td>1</td>\n",
       "      <td>0.070</td>\n",
       "    </tr>\n",
       "  </tbody>\n",
       "</table>\n",
       "<p>36000 rows × 9 columns</p>\n",
       "</div>"
      ],
      "text/plain": [
       "           ID  Day_No  Course_ID       Course_Domain Course_Type  \\\n",
       "0         883     883          1         Development      Course   \n",
       "1         884     884          1         Development      Course   \n",
       "2         885     885          1         Development      Course   \n",
       "3         886     886          1         Development      Course   \n",
       "4         887     887          1         Development      Course   \n",
       "...       ...     ...        ...                 ...         ...   \n",
       "35995  548083     938        600  Software Marketing     Program   \n",
       "35996  548084     939        600  Software Marketing     Program   \n",
       "35997  548085     940        600  Software Marketing     Program   \n",
       "35998  548086     941        600  Software Marketing     Program   \n",
       "35999  548087     942        600  Software Marketing     Program   \n",
       "\n",
       "       Short_Promotion  Public_Holiday  Long_Promotion  Competition_Metric  \n",
       "0                    1               0               1               0.007  \n",
       "1                    1               0               1               0.007  \n",
       "2                    1               0               1               0.007  \n",
       "3                    1               0               1               0.007  \n",
       "4                    0               0               1               0.007  \n",
       "...                ...             ...             ...                 ...  \n",
       "35995                1               0               1               0.070  \n",
       "35996                1               0               1               0.070  \n",
       "35997                1               0               1               0.070  \n",
       "35998                1               0               1               0.070  \n",
       "35999                1               0               1               0.070  \n",
       "\n",
       "[36000 rows x 9 columns]"
      ]
     },
     "execution_count": 47,
     "metadata": {},
     "output_type": "execute_result"
    }
   ],
   "source": [
    "test_df_ID= pd.read_csv('test.csv')\n",
    "test_df_ID"
   ]
  },
  {
   "cell_type": "code",
   "execution_count": 48,
   "id": "3a112878",
   "metadata": {},
   "outputs": [
    {
     "data": {
      "text/html": [
       "<div>\n",
       "<style scoped>\n",
       "    .dataframe tbody tr th:only-of-type {\n",
       "        vertical-align: middle;\n",
       "    }\n",
       "\n",
       "    .dataframe tbody tr th {\n",
       "        vertical-align: top;\n",
       "    }\n",
       "\n",
       "    .dataframe thead th {\n",
       "        text-align: right;\n",
       "    }\n",
       "</style>\n",
       "<table border=\"1\" class=\"dataframe\">\n",
       "  <thead>\n",
       "    <tr style=\"text-align: right;\">\n",
       "      <th></th>\n",
       "      <th>ID</th>\n",
       "      <th>Sales</th>\n",
       "    </tr>\n",
       "  </thead>\n",
       "  <tbody>\n",
       "    <tr>\n",
       "      <th>0</th>\n",
       "      <td>883</td>\n",
       "      <td>114.712106</td>\n",
       "    </tr>\n",
       "    <tr>\n",
       "      <th>1</th>\n",
       "      <td>884</td>\n",
       "      <td>120.527301</td>\n",
       "    </tr>\n",
       "    <tr>\n",
       "      <th>2</th>\n",
       "      <td>885</td>\n",
       "      <td>100.849886</td>\n",
       "    </tr>\n",
       "    <tr>\n",
       "      <th>3</th>\n",
       "      <td>886</td>\n",
       "      <td>93.273485</td>\n",
       "    </tr>\n",
       "    <tr>\n",
       "      <th>4</th>\n",
       "      <td>887</td>\n",
       "      <td>50.961928</td>\n",
       "    </tr>\n",
       "    <tr>\n",
       "      <th>...</th>\n",
       "      <td>...</td>\n",
       "      <td>...</td>\n",
       "    </tr>\n",
       "    <tr>\n",
       "      <th>35995</th>\n",
       "      <td>548083</td>\n",
       "      <td>151.649293</td>\n",
       "    </tr>\n",
       "    <tr>\n",
       "      <th>35996</th>\n",
       "      <td>548084</td>\n",
       "      <td>123.978856</td>\n",
       "    </tr>\n",
       "    <tr>\n",
       "      <th>35997</th>\n",
       "      <td>548085</td>\n",
       "      <td>121.669080</td>\n",
       "    </tr>\n",
       "    <tr>\n",
       "      <th>35998</th>\n",
       "      <td>548086</td>\n",
       "      <td>121.093708</td>\n",
       "    </tr>\n",
       "    <tr>\n",
       "      <th>35999</th>\n",
       "      <td>548087</td>\n",
       "      <td>131.242915</td>\n",
       "    </tr>\n",
       "  </tbody>\n",
       "</table>\n",
       "<p>36000 rows × 2 columns</p>\n",
       "</div>"
      ],
      "text/plain": [
       "           ID       Sales\n",
       "0         883  114.712106\n",
       "1         884  120.527301\n",
       "2         885  100.849886\n",
       "3         886   93.273485\n",
       "4         887   50.961928\n",
       "...       ...         ...\n",
       "35995  548083  151.649293\n",
       "35996  548084  123.978856\n",
       "35997  548085  121.669080\n",
       "35998  548086  121.093708\n",
       "35999  548087  131.242915\n",
       "\n",
       "[36000 rows x 2 columns]"
      ]
     },
     "execution_count": 48,
     "metadata": {},
     "output_type": "execute_result"
    }
   ],
   "source": [
    "result = pd.DataFrame({\"ID\" : test_df_ID['ID'], 'Sales' : y_pred_test})\n",
    "result"
   ]
  },
  {
   "cell_type": "code",
   "execution_count": 49,
   "id": "47c9bfd2",
   "metadata": {
    "scrolled": true
   },
   "outputs": [
    {
     "data": {
      "text/plain": [
       "584.8203992129556"
      ]
     },
     "execution_count": 49,
     "metadata": {},
     "output_type": "execute_result"
    }
   ],
   "source": [
    "mean_squared_error(y_test,y_pred)"
   ]
  },
  {
   "cell_type": "code",
   "execution_count": 50,
   "id": "867d802d",
   "metadata": {},
   "outputs": [],
   "source": [
    "result.to_csv('Submission.csv', index = False)"
   ]
  }
 ],
 "metadata": {
  "kernelspec": {
   "display_name": "Python 3",
   "language": "python",
   "name": "python3"
  },
  "language_info": {
   "codemirror_mode": {
    "name": "ipython",
    "version": 3
   },
   "file_extension": ".py",
   "mimetype": "text/x-python",
   "name": "python",
   "nbconvert_exporter": "python",
   "pygments_lexer": "ipython3",
   "version": "3.8.8"
  }
 },
 "nbformat": 4,
 "nbformat_minor": 5
}
